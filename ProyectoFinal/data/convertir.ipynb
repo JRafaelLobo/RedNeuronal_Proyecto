{
 "cells": [
  {
   "cell_type": "code",
   "execution_count": 1,
   "id": "46894e0c",
   "metadata": {},
   "outputs": [
    {
     "name": "stdout",
     "output_type": "stream",
     "text": [
      "Archivos .npz creados correctamente: fashion_train.npz y fashion_test.npz\n"
     ]
    }
   ],
   "source": [
    "import numpy as np\n",
    "import gzip\n",
    "import os\n",
    "\n",
    "def load_images(filename):\n",
    "    with gzip.open(filename, 'rb') as f:\n",
    "        f.read(16)  # saltar header\n",
    "        buf = f.read()\n",
    "        data = np.frombuffer(buf, dtype=np.uint8)\n",
    "        data = data.reshape(-1, 28, 28)\n",
    "    return data\n",
    "\n",
    "def load_labels(filename):\n",
    "    with gzip.open(filename, 'rb') as f:\n",
    "        f.read(8)  # saltar header\n",
    "        buf = f.read()\n",
    "        labels = np.frombuffer(buf, dtype=np.uint8)\n",
    "    return labels\n",
    "\n",
    "# rutas de los archivos .gz\n",
    "train_images_file = \"train-images-idx3-ubyte.gz\"\n",
    "train_labels_file = \"train-labels-idx1-ubyte.gz\"\n",
    "test_images_file = \"t10k-images-idx3-ubyte.gz\"\n",
    "test_labels_file = \"t10k-labels-idx1-ubyte.gz\"\n",
    "\n",
    "# cargar\n",
    "X_train = load_images(train_images_file)\n",
    "y_train = load_labels(train_labels_file)\n",
    "X_test  = load_images(test_images_file)\n",
    "y_test  = load_labels(test_labels_file)\n",
    "\n",
    "# guardar como .npz\n",
    "np.savez(\"fashion_train.npz\", images=X_train, labels=y_train)\n",
    "np.savez(\"fashion_test.npz\",  images=X_test,  labels=y_test)\n",
    "\n",
    "print(\"Archivos .npz creados correctamente: fashion_train.npz y fashion_test.npz\")\n"
   ]
  }
 ],
 "metadata": {
  "kernelspec": {
   "display_name": "venv",
   "language": "python",
   "name": "python3"
  },
  "language_info": {
   "codemirror_mode": {
    "name": "ipython",
    "version": 3
   },
   "file_extension": ".py",
   "mimetype": "text/x-python",
   "name": "python",
   "nbconvert_exporter": "python",
   "pygments_lexer": "ipython3",
   "version": "3.10.12"
  }
 },
 "nbformat": 4,
 "nbformat_minor": 5
}
