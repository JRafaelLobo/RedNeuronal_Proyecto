{
 "cells": [
  {
   "cell_type": "code",
   "execution_count": 13,
   "id": "80d95329",
   "metadata": {},
   "outputs": [
    {
     "name": "stdout",
     "output_type": "stream",
     "text": [
      "Datos de test cargados.\n",
      "Modelo cargado desde ../modelos/testmodel.json\n",
      "Accuracy en test: 0.0778\n"
     ]
    }
   ],
   "source": [
    "import numpy as np\n",
    "import json\n",
    "import DnnLib\n",
    "\n",
    "MODEL_PATH = \"../modelos/testmodel.json\"\n",
    "TEST_DATA_PATH = \"../data/fashion_test.npz\"\n",
    "\n",
    "data_test = np.load(TEST_DATA_PATH)\n",
    "images_test = data_test[\"images\"].astype(np.float64)\n",
    "labels_test = data_test[\"labels\"]\n",
    "\n",
    "X_test = images_test.reshape(len(images_test), -1) / 255.0\n",
    "y_test = np.eye(10)[labels_test]  # one-hot encoding\n",
    "\n",
    "print(\"Datos de test cargados.\")\n",
    "\n",
    "# -----------------------------\n",
    "# Función para cargar modelo\n",
    "# -----------------------------\n",
    "def load_model(filename):\n",
    "    with open(filename, \"r\") as f:\n",
    "        model_data = json.load(f)\n",
    "\n",
    "    layers = []\n",
    "    for layer_info in model_data:\n",
    "        if layer_info[\"type\"] == \"DenseLayer\":\n",
    "            layer = DnnLib.DenseLayer(\n",
    "                layer_info[\"input_dim\"],\n",
    "                layer_info[\"output_dim\"],\n",
    "                getattr(DnnLib.ActivationType, layer_info[\"activation\"])\n",
    "            )\n",
    "            layer.weights[:] = np.array(layer_info[\"weights\"], dtype=np.float64)\n",
    "            layer.bias[:] = np.array(layer_info[\"bias\"], dtype=np.float64)\n",
    "\n",
    "            # Reiniciar cualquier estado interno\n",
    "            if hasattr(layer, 'cache'):\n",
    "                layer.cache = None\n",
    "            if hasattr(layer, 'grad_cache'):\n",
    "                layer.grad_cache = None\n",
    "\n",
    "            layers.append(layer)\n",
    "    print(f\"Modelo cargado desde {filename}\")\n",
    "    return layers\n",
    "\n",
    "layers = load_model(MODEL_PATH)\n",
    "\n",
    "preds = X_test\n",
    "for layer in layers:\n",
    "    preds = layer.forward(preds)\n",
    "\n",
    "# -----------------------------\n",
    "# Calcular accuracy\n",
    "# -----------------------------\n",
    "pred_classes = np.argmax(preds, axis=1)\n",
    "true_classes = np.argmax(y_test, axis=1)\n",
    "accuracy = np.mean(pred_classes == true_classes)\n",
    "\n",
    "print(f\"Accuracy en test: {accuracy:.4f}\")\n"
   ]
  },
  {
   "cell_type": "code",
   "execution_count": null,
   "id": "ede0dd61-a2bc-45b7-9405-357b2e6bb948",
   "metadata": {},
   "outputs": [],
   "source": []
  },
  {
   "cell_type": "code",
   "execution_count": null,
   "id": "d338f720-27a4-46da-9162-c7c6f2fbd27e",
   "metadata": {},
   "outputs": [],
   "source": []
  }
 ],
 "metadata": {
  "kernelspec": {
   "display_name": "Python 3 (ipykernel)",
   "language": "python",
   "name": "python3"
  },
  "language_info": {
   "codemirror_mode": {
    "name": "ipython",
    "version": 3
   },
   "file_extension": ".py",
   "mimetype": "text/x-python",
   "name": "python",
   "nbconvert_exporter": "python",
   "pygments_lexer": "ipython3",
   "version": "3.13.7"
  }
 },
 "nbformat": 4,
 "nbformat_minor": 5
}
