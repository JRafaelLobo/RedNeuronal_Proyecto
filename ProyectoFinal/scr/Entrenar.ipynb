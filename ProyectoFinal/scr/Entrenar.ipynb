{
 "cells": [
  {
   "cell_type": "code",
   "execution_count": null,
   "id": "22cbb9f0-a04e-43a9-96ce-bf0280dc2b83",
   "metadata": {},
   "outputs": [
    {
     "name": "stdout",
     "output_type": "stream",
     "text": [
      "Datos Cargados\n"
     ]
    }
   ],
   "source": [
    "import numpy as np\n",
    "import DnnLib\n",
    "\n",
    "data_train = np.load(\"../data/fashion_train.npz\")\n",
    "X_train = data_train[\"images\"].astype(np.float64).reshape(len(data_train[\"images\"]), -1) / 255.0\n",
    "y_train = np.eye(10)[data_train[\"labels\"]]\n",
    "\n",
    "data_test = np.load(\"../data/fashion_test.npz\")\n",
    "X_test = data_test[\"images\"].astype(np.float64).reshape(len(data_test[\"images\"]), -1) / 255.0\n",
    "y_test = np.eye(10)[data_test[\"labels\"]]\n",
    "print(\"Datos Cargados\")"
   ]
  },
  {
   "cell_type": "code",
   "execution_count": 2,
   "id": "71d4094a-83a5-4197-9d2f-5e2e91856582",
   "metadata": {},
   "outputs": [],
   "source": [
    "layers = [\n",
    "    DnnLib.DenseLayer(784, 128, DnnLib.ActivationType.RELU),\n",
    "    DnnLib.DenseLayer(128, 64, DnnLib.ActivationType.RELU),\n",
    "    DnnLib.DenseLayer(64, 10, DnnLib.ActivationType.SOFTMAX)\n",
    "]"
   ]
  },
  {
   "cell_type": "code",
   "execution_count": 3,
   "id": "8eaea78f-e7f1-44af-b974-e7385c2f66cc",
   "metadata": {},
   "outputs": [],
   "source": [
    "optimizer = DnnLib.Adam(learning_rate=0.001)\n"
   ]
  },
  {
   "cell_type": "code",
   "execution_count": 4,
   "id": "c65c07ad-8cc6-478c-8eab-7a54ea948e1c",
   "metadata": {},
   "outputs": [],
   "source": [
    "def train_minibatch(layers, optimizer, X, y, batch_size=64, epochs=10):\n",
    "    n_samples = X.shape[0]\n",
    "    for epoch in range(epochs):\n",
    "        indices = np.random.permutation(n_samples)\n",
    "        X_shuff, y_shuff = X[indices], y[indices]\n",
    "        epoch_loss, n_batches = 0.0, 0\n",
    "        \n",
    "        for i in range(0, n_samples, batch_size):\n",
    "            X_batch = X_shuff[i:i+batch_size]\n",
    "            y_batch = y_shuff[i:i+batch_size]\n",
    "\n",
    "            # Forward\n",
    "            activation = X_batch\n",
    "            for layer in layers:\n",
    "                activation = layer.forward(activation)\n",
    "            output = activation\n",
    "\n",
    "            # Loss + grad\n",
    "            loss = DnnLib.cross_entropy(output, y_batch)\n",
    "            grad = DnnLib.cross_entropy_gradient(output, y_batch)\n",
    "\n",
    "            # Backward\n",
    "            for layer in reversed(layers):\n",
    "                grad = layer.backward(grad)\n",
    "                optimizer.update(layer)\n",
    "\n",
    "            epoch_loss += loss\n",
    "            n_batches += 1\n",
    "\n",
    "        print(f\"Epoch {epoch}, Loss: {epoch_loss/n_batches:.4f}\")\n"
   ]
  },
  {
   "cell_type": "code",
   "execution_count": 19,
   "id": "5b5d07a6-2ee8-4bdc-850e-743c6daaf870",
   "metadata": {},
   "outputs": [
    {
     "name": "stdout",
     "output_type": "stream",
     "text": [
      "Iniciando Entrenamiento\n",
      "Epoch 0, Loss: 0.2317\n",
      "Epoch 1, Loss: 0.2226\n",
      "Epoch 2, Loss: 0.2189\n",
      "Epoch 3, Loss: 0.2093\n",
      "Epoch 4, Loss: 0.2032\n",
      "Epoch 5, Loss: 0.1980\n",
      "Epoch 6, Loss: 0.1927\n",
      "Epoch 7, Loss: 0.1866\n",
      "Epoch 8, Loss: 0.1808\n",
      "Epoch 9, Loss: 0.1744\n",
      "Datos Entrenados\n"
     ]
    }
   ],
   "source": [
    "print(\"Iniciando Entrenamiento\")\n",
    "train_minibatch(layers, optimizer, X_train, y_train, batch_size=64, epochs=10)\n",
    "print(\"Datos Entrenados\")"
   ]
  },
  {
   "cell_type": "code",
   "execution_count": 20,
   "id": "ba436d2b-3ba3-44b3-91b9-f4e5542a1f09",
   "metadata": {},
   "outputs": [
    {
     "name": "stdout",
     "output_type": "stream",
     "text": [
      "Accuracy en test: 0.8883\n"
     ]
    }
   ],
   "source": [
    "preds = X_test\n",
    "for layer in layers:\n",
    "    preds = layer.forward(preds)\n",
    "    \n",
    "\n",
    "pred_classes = np.argmax(preds, axis=1)\n",
    "true_classes = np.argmax(y_test, axis=1)\n",
    "accuracy = np.mean(pred_classes == true_classes)\n",
    "print(\"Accuracy en test:\", accuracy)\n"
   ]
  },
  {
   "cell_type": "code",
   "execution_count": 18,
   "id": "f6d5a89a-8a65-4002-b1be-33f7fa2774a6",
   "metadata": {},
   "outputs": [
    {
     "name": "stdout",
     "output_type": "stream",
     "text": [
      "Modelo guardado en ../modelos/testmodel.json\n"
     ]
    }
   ],
   "source": [
    "import json\n",
    "\n",
    "def save_model(layers, filename=\"model.json\"):\n",
    "    model_data = []\n",
    "    for layer in layers:\n",
    "        if isinstance(layer, DnnLib.DenseLayer):\n",
    "            model_data.append({\n",
    "                \"type\": \"DenseLayer\",\n",
    "                \"input_dim\": layer.weights.shape[1],\n",
    "                \"output_dim\": layer.weights.shape[0],\n",
    "                \"activation\": layer.activation_type.name,\n",
    "                \"weights\": layer.weights.tolist(),\n",
    "                \"bias\": layer.bias.tolist()\n",
    "            })\n",
    "    with open(filename, \"w\") as f:\n",
    "        json.dump(model_data, f)\n",
    "    print(f\"Modelo guardado en {filename}\")\n",
    "    \n",
    "save_model(layers,\"../modelos/testmodel.json\")"
   ]
  },
  {
   "cell_type": "code",
   "execution_count": null,
   "id": "61b248ec-da5a-44cf-80f3-6770b56e4184",
   "metadata": {},
   "outputs": [],
   "source": [
    "def load_model(filename=\"model.json\"):\n",
    "    import json\n",
    "    import numpy as np\n",
    "    import DnnLib\n",
    "\n",
    "    with open(filename, \"r\") as f:\n",
    "        model_data = json.load(f)\n",
    "\n",
    "    layers = []\n",
    "    for layer_info in model_data:\n",
    "        if layer_info[\"type\"] == \"DenseLayer\":\n",
    "            layer = DnnLib.DenseLayer(\n",
    "                layer_info[\"input_dim\"],\n",
    "                layer_info[\"output_dim\"],\n",
    "                getattr(DnnLib.ActivationType, layer_info[\"activation\"])\n",
    "            )            \n",
    "            layer.weights[:] = np.array(layer_info[\"weights\"], dtype=np.float64)\n",
    "            layer.bias[:] = np.array(layer_info[\"bias\"], dtype=np.float64)\n",
    "            \n",
    "            if hasattr(layer, 'cache'):\n",
    "                layer.cache = None\n",
    "            if hasattr(layer, 'grad_cache'):\n",
    "                layer.grad_cache = None\n",
    "            \n",
    "            layers.append(layer)\n",
    "\n",
    "    print(f\"Modelo cargado desde {filename}\")\n",
    "    return layers\n",
    "\n",
    "\n",
    "# Cargar modelo\n",
    "#loaded_layers = load_model(\"../modelos/model.json\")\n",
    "\n",
    "# Forward sobre el test set\n",
    "#preds = X_test\n",
    "#for layer in loaded_layers:\n",
    "#    preds = layer.forward(preds)\n",
    "\n",
    "#true_classes = np.argmax(y_test, axis=1)\n",
    "#acc = np.mean(pred_classes == true_classes)\n",
    "#print(\"Accuracy del modelo cargado:\", acc)\n"
   ]
  },
  {
   "cell_type": "code",
   "execution_count": null,
   "id": "e0a7b5fb-2c08-44f6-9b16-81d1f3dda2ea",
   "metadata": {},
   "outputs": [],
   "source": []
  }
 ],
 "metadata": {
  "kernelspec": {
   "display_name": "Python 3 (ipykernel)",
   "language": "python",
   "name": "python3"
  },
  "language_info": {
   "codemirror_mode": {
    "name": "ipython",
    "version": 3
   },
   "file_extension": ".py",
   "mimetype": "text/x-python",
   "name": "python",
   "nbconvert_exporter": "python",
   "pygments_lexer": "ipython3",
   "version": "3.13.7"
  }
 },
 "nbformat": 4,
 "nbformat_minor": 5
}
